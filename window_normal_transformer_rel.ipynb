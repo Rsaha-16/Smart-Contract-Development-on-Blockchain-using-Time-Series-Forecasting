{
 "cells": [
  {
   "cell_type": "code",
   "execution_count": 1,
   "metadata": {},
   "outputs": [
    {
     "name": "stderr",
     "output_type": "stream",
     "text": [
      "/home/raj/Rajarshi/Term Project/notebook_files/tpvenv/lib/python3.10/site-packages/tqdm/auto.py:21: TqdmWarning: IProgress not found. Please update jupyter and ipywidgets. See https://ipywidgets.readthedocs.io/en/stable/user_install.html\n",
      "  from .autonotebook import tqdm as notebook_tqdm\n"
     ]
    }
   ],
   "source": [
    "import os\n",
    "import pandas as pd\n",
    "from darts import TimeSeries\n",
    "from darts.models import TransformerModel\n",
    "from sklearn.preprocessing import MinMaxScaler\n",
    "from pytorch_lightning.callbacks import Callback\n",
    "import torch"
   ]
  },
  {
   "cell_type": "code",
   "execution_count": null,
   "metadata": {},
   "outputs": [],
   "source": [
    "class EpochEndCallback(Callback):\n",
    "    def __init__(self, log_file='epoch_loss_log_window_transformer_model.txt'):\n",
    "        self.log_file = log_file\n",
    "        self.window_number = 0  # Initialize window number\n",
    "        with open(self.log_file, 'w') as f:\n",
    "            f.write('Epoch,Train_Loss,Window\\n')\n",
    "\n",
    "    def on_train_epoch_end(self, trainer, pl_module):\n",
    "        train_loss = trainer.logged_metrics.get(\"train_loss\")\n",
    "        current_epoch = trainer.current_epoch\n",
    "        if train_loss is not None:\n",
    "            with open(self.log_file, 'a') as f:\n",
    "                f.write(f'{current_epoch},{train_loss.item()},{self.window_number}\\n')\n",
    "            print(f\"Epoch {current_epoch} ended with training loss: {train_loss.item()}\")\n",
    "\n",
    "    def set_window_number(self, window_number):\n",
    "        self.window_number = window_number\n",
    "\n",
    "# Initialize callbacks without early stopping for testing\n",
    "epoch_end_callback = EpochEndCallback()"
   ]
  },
  {
   "cell_type": "code",
   "execution_count": null,
   "metadata": {},
   "outputs": [],
   "source": [
    "# Load and preprocess the data\n",
    "csv_file_path = '/home/raj/Rajarshi/Term Project/notebook_files/data/RELIANCE.NS_day.csv'\n",
    "sbi_data = pd.read_csv(csv_file_path, parse_dates=['Date'])\n",
    "sbi_data.dropna(inplace=True)\n",
    "sbi_data.set_index('Date', inplace=True)\n",
    "sbi_data = sbi_data.asfreq('B', method='pad')\n",
    "\n",
    "# Create scalers\n",
    "scaler_close = MinMaxScaler()\n",
    "scaler_covariates = MinMaxScaler()\n",
    "sbi_data['Open_Close_Diff'] = sbi_data['Open'] - sbi_data['Close']\n",
    "sbi_data['Close'] = scaler_close.fit_transform(sbi_data[['Close']])\n",
    "sbi_data[['RSI', 'Volume', 'Open_Close_Diff']] = scaler_covariates.fit_transform(sbi_data[['RSI', 'Volume', 'Open_Close_Diff']])\n",
    "\n",
    "# Initialize variables\n",
    "training_end_date = sbi_data.index.max() - pd.DateOffset(months=2)  # Train using last 2 months of data\n",
    "final_predictions = []\n"
   ]
  },
  {
   "cell_type": "code",
   "execution_count": null,
   "metadata": {},
   "outputs": [],
   "source": [
    "\n",
    "pl_trainer_kwargs = {\"callbacks\": [epoch_end_callback], \"accelerator\": \"cpu\", \"devices\": 1}\n",
    "\n",
    "# Define the window management and model training class\n",
    "class ModelTrainer:\n",
    "    def __init__(self, data, scaler_close, epoch_end_callback, pl_trainer_kwargs):\n",
    "        self.data = data\n",
    "        self.scaler_close = scaler_close\n",
    "        self.epoch_end_callback = epoch_end_callback\n",
    "        self.pl_trainer_kwargs = pl_trainer_kwargs\n",
    "\n",
    "    def train_model(self, train_data, window_number):\n",
    "        # Set the window number for the callback\n",
    "        self.epoch_end_callback.set_window_number(window_number)\n",
    "\n",
    "        # Prepare the training data\n",
    "        target_train = TimeSeries.from_series(train_data['Close'])\n",
    "        past_cov_train = TimeSeries.from_dataframe(train_data[['RSI', 'Volume', 'Open_Close_Diff']])\n",
    "\n",
    "        # Initialize and train the model\n",
    "        model = TransformerModel(\n",
    "            input_chunk_length=150,\n",
    "            output_chunk_length=15,\n",
    "            d_model=128,\n",
    "            nhead=8,\n",
    "            num_encoder_layers=4,\n",
    "            num_decoder_layers=4,\n",
    "            dim_feedforward=1024,\n",
    "            dropout=0.2,\n",
    "            n_epochs=50,\n",
    "            optimizer_cls=torch.optim.Adam,\n",
    "            optimizer_kwargs={'lr': 0.0005},\n",
    "            lr_scheduler_cls=torch.optim.lr_scheduler.ReduceLROnPlateau,\n",
    "            lr_scheduler_kwargs={'patience': 5, 'factor': 0.2, 'verbose': True, 'monitor': 'train_loss'},\n",
    "            pl_trainer_kwargs=self.pl_trainer_kwargs\n",
    "        )\n",
    "\n",
    "        model.fit(target_train, past_covariates=past_cov_train)\n",
    "\n",
    "        # Predict and inverse transform\n",
    "        pred = model.predict(n=15, past_covariates=past_cov_train)\n",
    "        pred_values = self.scaler_close.inverse_transform(pred.values())\n",
    "        dates = pred.time_index\n",
    "\n",
    "        return dates, pred_values\n",
    "\n",
    "# Initialize the trainer\n",
    "trainer = ModelTrainer(sbi_data, scaler_close, epoch_end_callback, pl_trainer_kwargs)"
   ]
  },
  {
   "cell_type": "code",
   "execution_count": null,
   "metadata": {},
   "outputs": [],
   "source": [
    "# Training and prediction loop\n",
    "window_number = 1\n",
    "while True:\n",
    "    train_data = sbi_data.loc[:training_end_date]\n",
    "    print(f\"Training window {window_number}: from {train_data.index.min()} to {train_data.index.max()}\")\n",
    "\n",
    "    # Train the model and get predictions\n",
    "    dates, pred_values = trainer.train_model(train_data, window_number)\n",
    "\n",
    "    # Store the predictions\n",
    "    predictions_df = pd.DataFrame({\n",
    "        'Date': dates, \n",
    "        'Predicted Value': pred_values.flatten(),\n",
    "        'Window Start': train_data.index.min(),\n",
    "        'Window End': train_data.index.max()\n",
    "    })\n",
    "    final_predictions.append(predictions_df)\n",
    "\n",
    "    # Update training_end_date for the next window\n",
    "    training_end_date = dates[-1]\n",
    "\n",
    "    # Break if we reach the end of the data\n",
    "    if training_end_date >= sbi_data.index.max():\n",
    "        break\n",
    "\n",
    "    window_number += 1\n"
   ]
  },
  {
   "cell_type": "code",
   "execution_count": null,
   "metadata": {},
   "outputs": [],
   "source": [
    "# Combine predictions and save\n",
    "all_predictions_df = pd.concat(final_predictions, ignore_index=True)\n",
    "output_csv_file = 'prediction_using_window_method_transformer_model_rel.csv'\n",
    "all_predictions_df.to_csv(output_csv_file, index=False)\n",
    "\n",
    "print(f\"Predictions saved to {output_csv_file}\")"
   ]
  },
  {
   "cell_type": "code",
   "execution_count": null,
   "metadata": {},
   "outputs": [],
   "source": []
  }
 ],
 "metadata": {
  "kernelspec": {
   "display_name": "tpvenv",
   "language": "python",
   "name": "python3"
  },
  "language_info": {
   "codemirror_mode": {
    "name": "ipython",
    "version": 3
   },
   "file_extension": ".py",
   "mimetype": "text/x-python",
   "name": "python",
   "nbconvert_exporter": "python",
   "pygments_lexer": "ipython3",
   "version": "3.10.12"
  }
 },
 "nbformat": 4,
 "nbformat_minor": 2
}
